{
 "cells": [
  {
   "cell_type": "code",
   "execution_count": 1,
   "id": "32a4c73d-010b-4336-81e0-f185ac7a4165",
   "metadata": {},
   "outputs": [
    {
     "name": "stdout",
     "output_type": "stream",
     "text": [
      "Shape of movies.csv: (9742, 3)\n"
     ]
    }
   ],
   "source": [
    "import pandas as pd\n",
    "\n",
    "df_movies = pd.read_csv('movies.csv')\n",
    "shape_movies = df_movies.shape\n",
    "print('Shape of movies.csv:', shape_movies)"
   ]
  },
  {
   "cell_type": "code",
   "execution_count": 2,
   "id": "6404a5b3-2621-42c5-a593-04d1417c516a",
   "metadata": {},
   "outputs": [
    {
     "name": "stdout",
     "output_type": "stream",
     "text": [
      "Shape of ratings.csv: (100836, 4)\n",
      "   userId  movieId  rating  timestamp\n",
      "0       1        1     4.0  964982703\n",
      "1       1        3     4.0  964981247\n",
      "2       1        6     4.0  964982224\n",
      "3       1       47     5.0  964983815\n",
      "4       1       50     5.0  964982931\n"
     ]
    }
   ],
   "source": [
    "df_ratings = pd.read_csv('ratings.csv')\n",
    "shape_ratings = df_ratings.shape\n",
    "\n",
    "print('Shape of ratings.csv:', shape_ratings)\n",
    "print(df_ratings.head())"
   ]
  },
  {
   "cell_type": "code",
   "execution_count": 3,
   "id": "fe772ded-3cee-473f-8388-289977becf3d",
   "metadata": {},
   "outputs": [
    {
     "name": "stdout",
     "output_type": "stream",
     "text": [
      "Number of unique userId in ratings.csv: 610\n"
     ]
    }
   ],
   "source": [
    "unique_user_ids = df_ratings['userId'].nunique()\n",
    "print('Number of unique userId in ratings.csv:', unique_user_ids)"
   ]
  },
  {
   "cell_type": "code",
   "execution_count": 4,
   "id": "561b50ce-7c22-4aa1-8469-59d929379be6",
   "metadata": {},
   "outputs": [
    {
     "name": "stdout",
     "output_type": "stream",
     "text": [
      "Movie with the maximum number of user ratings: Forrest Gump (1994)\n",
      "Number of ratings: 329\n"
     ]
    }
   ],
   "source": [
    "most_rated_movie_id = df_ratings['movieId'].value_counts().idxmax()\n",
    "most_rated_movie_count = df_ratings['movieId'].value_counts().max()\n",
    "\n",
    "#title of the movie with the most ratings\n",
    "most_rated_movie_title = df_movies[df_movies['movieId'] == most_rated_movie_id]['title'].values[0]\n",
    "\n",
    "print('Movie with the maximum number of user ratings:', most_rated_movie_title)\n",
    "print('Number of ratings:', most_rated_movie_count)"
   ]
  },
  {
   "cell_type": "code",
   "execution_count": 10,
   "id": "421d1a75-7325-4e02-b1fb-2622fc9362cc",
   "metadata": {},
   "outputs": [
    {
     "name": "stdout",
     "output_type": "stream",
     "text": [
      "Unique tags for 'The Matrix (1999)':\n",
      "- alternate universe\n",
      "- martial arts\n",
      "- philosophy\n",
      "- post apocalyptic\n",
      "- sci-fi\n",
      "\n",
      "Total number of unique tags: 5\n"
     ]
    }
   ],
   "source": [
    "df_tags = pd.read_csv('tags.csv')\n",
    "df_movies = pd.read_csv('movies.csv')\n",
    "\n",
    "#movieId for \"The Matrix (1999)\"\n",
    "movie = df_movies[df_movies['title'] == 'Matrix, The (1999)']\n",
    "if not movie.empty:\n",
    "    movie_id = movie['movieId'].values[0]\n",
    "    \n",
    "    # Get all tags for The Matrix\n",
    "    tags = df_tags[df_tags['movieId'] == movie_id]\n",
    "    \n",
    "    # Get unique tags (case-insensitive)\n",
    "    unique_tags = tags['tag'].str.lower().unique()\n",
    "    \n",
    "    print(\"Unique tags for 'The Matrix (1999)':\")\n",
    "    for tag in sorted(unique_tags):\n",
    "        print(f\"- {tag}\")\n",
    "    \n",
    "    print(f\"\\nTotal number of unique tags: {len(unique_tags)}\")"
   ]
  },
  {
   "cell_type": "code",
   "execution_count": 14,
   "id": "d8995e16-9386-47a9-84e4-bf2aac38b7de",
   "metadata": {},
   "outputs": [
    {
     "name": "stdout",
     "output_type": "stream",
     "text": [
      "Movie: Terminator 2: Judgment Day (1991)\n",
      "Average Rating: 3.97\n",
      "Number of Ratings: 224\n"
     ]
    }
   ],
   "source": [
    "df_movies = pd.read_csv('movies.csv')\n",
    "df_ratings = pd.read_csv('ratings.csv')\n",
    "\n",
    "#movieId for \"Terminator 2: Judgment Day (1991)\"\n",
    "movie = df_movies[df_movies['title'] == 'Terminator 2: Judgment Day (1991)']\n",
    "\n",
    "if not movie.empty:\n",
    "    movie_id = movie['movieId'].values[0]\n",
    "    \n",
    "    #all ratings for Terminator 2\n",
    "    ratings = df_ratings[df_ratings['movieId'] == movie_id]\n",
    "    average_rating = ratings['rating'].mean()\n",
    "    \n",
    "    print(f\"Movie: Terminator 2: Judgment Day (1991)\")\n",
    "    print(f\"Average Rating: {average_rating:.2f}\")\n",
    "    print(f\"Number of Ratings: {len(ratings)}\")"
   ]
  },
  {
   "cell_type": "code",
   "execution_count": 16,
   "id": "f427a53c-e200-4fe3-a69f-09126bd194d9",
   "metadata": {},
   "outputs": [
    {
     "name": "stderr",
     "output_type": "stream",
     "text": [
      "C:\\Users\\ritwi\\anaconda3\\lib\\site-packages\\scipy\\__init__.py:177: UserWarning: A NumPy version >=1.18.5 and <1.26.0 is required for this version of SciPy (detected version 1.26.4\n",
      "  warnings.warn(f\"A NumPy version >={np_minversion} and <{np_maxversion}\"\n"
     ]
    },
    {
     "name": "stdout",
     "output_type": "stream",
     "text": [
      "Movie: Fight Club (1999)\n",
      "Number of Ratings: 218\n",
      "Average Rating: 4.27\n",
      "Median Rating: 4.50\n",
      "Mode Rating: 5.00\n"
     ]
    }
   ],
   "source": [
    "import matplotlib.pyplot as plt\n",
    "import seaborn as sns\n",
    "\n",
    "df_movies = pd.read_csv('movies.csv')\n",
    "df_ratings = pd.read_csv('ratings.csv')\n",
    "\n",
    "#movieId for \"Fight Club (1999)\"\n",
    "fight_club = df_movies[df_movies['title'] == 'Fight Club (1999)']\n",
    "\n",
    "if not fight_club.empty:\n",
    "    fight_club_id = fight_club['movieId'].values[0]\n",
    "    \n",
    "    #all ratings for Fight Club\n",
    "    fight_club_ratings = df_ratings[df_ratings['movieId'] == fight_club_id]\n",
    "    \n",
    "    avg_rating = fight_club_ratings['rating'].mean()\n",
    "    median_rating = fight_club_ratings['rating'].median()\n",
    "    mode_rating = fight_club_ratings['rating'].mode().values[0]\n",
    "    \n",
    "    print(f\"Movie: Fight Club (1999)\")\n",
    "    print(f\"Number of Ratings: {len(fight_club_ratings)}\")\n",
    "    print(f\"Average Rating: {avg_rating:.2f}\")\n",
    "    print(f\"Median Rating: {median_rating:.2f}\")\n",
    "    print(f\"Mode Rating: {mode_rating:.2f}\")\n",
    "    \n",
    "    #histogram\n",
    "    plt.figure(figsize=(10, 6))\n",
    "    sns.histplot(data=fight_club_ratings, x='rating', bins=10, kde=True)\n",
    "    plt.title('Distribution of Ratings for Fight Club (1999)')\n",
    "    plt.xlabel('Rating')\n",
    "    plt.ylabel('Count')\n",
    "    plt.savefig('fight_club_ratings_distribution.png')\n",
    "    plt.close()\n",
    "    "
   ]
  },
  {
   "cell_type": "code",
   "execution_count": 19,
   "id": "5b7752ef-c912-4b37-98fb-e04eda099f93",
   "metadata": {},
   "outputs": [],
   "source": [
    "# Step 1: Group the user ratings based on movieId and apply aggregation operations\n",
    "ratings_grouped = df_ratings.groupby('movieId').agg(\n",
    "    count_ratings=('rating', 'count'),\n",
    "    mean_rating=('rating', 'mean')\n",
    ").reset_index()\n",
    "\n",
    "# Step 2: Apply inner join on movies dataframe and the grouped ratings dataframe\n",
    "merged_df = pd.merge(df_movies, ratings_grouped, on='movieId', how='inner')\n",
    "\n",
    "# Step 3: Filter only those movies which have more than 50 user ratings\n",
    "filtered_movies = merged_df[merged_df['count_ratings'] > 50]"
   ]
  },
  {
   "cell_type": "code",
   "execution_count": 29,
   "id": "1fb41e46-396e-449d-8135-77fd64008abc",
   "metadata": {},
   "outputs": [
    {
     "name": "stdout",
     "output_type": "stream",
     "text": [
      "\n",
      "Number of movies with more than 50 ratings: 436\n"
     ]
    },
    {
     "data": {
      "text/html": [
       "<div>\n",
       "<style scoped>\n",
       "    .dataframe tbody tr th:only-of-type {\n",
       "        vertical-align: middle;\n",
       "    }\n",
       "\n",
       "    .dataframe tbody tr th {\n",
       "        vertical-align: top;\n",
       "    }\n",
       "\n",
       "    .dataframe thead th {\n",
       "        text-align: right;\n",
       "    }\n",
       "</style>\n",
       "<table border=\"1\" class=\"dataframe\">\n",
       "  <thead>\n",
       "    <tr style=\"text-align: right;\">\n",
       "      <th></th>\n",
       "      <th>movieId</th>\n",
       "      <th>title</th>\n",
       "      <th>genres</th>\n",
       "      <th>count_ratings</th>\n",
       "      <th>mean_rating</th>\n",
       "    </tr>\n",
       "  </thead>\n",
       "  <tbody>\n",
       "    <tr>\n",
       "      <th>0</th>\n",
       "      <td>1</td>\n",
       "      <td>Toy Story (1995)</td>\n",
       "      <td>Adventure|Animation|Children|Comedy|Fantasy</td>\n",
       "      <td>215</td>\n",
       "      <td>3.920930</td>\n",
       "    </tr>\n",
       "    <tr>\n",
       "      <th>1</th>\n",
       "      <td>2</td>\n",
       "      <td>Jumanji (1995)</td>\n",
       "      <td>Adventure|Children|Fantasy</td>\n",
       "      <td>110</td>\n",
       "      <td>3.431818</td>\n",
       "    </tr>\n",
       "    <tr>\n",
       "      <th>2</th>\n",
       "      <td>3</td>\n",
       "      <td>Grumpier Old Men (1995)</td>\n",
       "      <td>Comedy|Romance</td>\n",
       "      <td>52</td>\n",
       "      <td>3.259615</td>\n",
       "    </tr>\n",
       "    <tr>\n",
       "      <th>5</th>\n",
       "      <td>6</td>\n",
       "      <td>Heat (1995)</td>\n",
       "      <td>Action|Crime|Thriller</td>\n",
       "      <td>102</td>\n",
       "      <td>3.946078</td>\n",
       "    </tr>\n",
       "    <tr>\n",
       "      <th>6</th>\n",
       "      <td>7</td>\n",
       "      <td>Sabrina (1995)</td>\n",
       "      <td>Comedy|Romance</td>\n",
       "      <td>54</td>\n",
       "      <td>3.185185</td>\n",
       "    </tr>\n",
       "    <tr>\n",
       "      <th>...</th>\n",
       "      <td>...</td>\n",
       "      <td>...</td>\n",
       "      <td>...</td>\n",
       "      <td>...</td>\n",
       "      <td>...</td>\n",
       "    </tr>\n",
       "    <tr>\n",
       "      <th>8287</th>\n",
       "      <td>106782</td>\n",
       "      <td>Wolf of Wall Street, The (2013)</td>\n",
       "      <td>Comedy|Crime|Drama</td>\n",
       "      <td>54</td>\n",
       "      <td>3.916667</td>\n",
       "    </tr>\n",
       "    <tr>\n",
       "      <th>8354</th>\n",
       "      <td>109374</td>\n",
       "      <td>Grand Budapest Hotel, The (2014)</td>\n",
       "      <td>Comedy|Drama</td>\n",
       "      <td>52</td>\n",
       "      <td>3.778846</td>\n",
       "    </tr>\n",
       "    <tr>\n",
       "      <th>8358</th>\n",
       "      <td>109487</td>\n",
       "      <td>Interstellar (2014)</td>\n",
       "      <td>Sci-Fi|IMAX</td>\n",
       "      <td>73</td>\n",
       "      <td>3.993151</td>\n",
       "    </tr>\n",
       "    <tr>\n",
       "      <th>8457</th>\n",
       "      <td>112852</td>\n",
       "      <td>Guardians of the Galaxy (2014)</td>\n",
       "      <td>Action|Adventure|Sci-Fi</td>\n",
       "      <td>59</td>\n",
       "      <td>4.050847</td>\n",
       "    </tr>\n",
       "    <tr>\n",
       "      <th>8673</th>\n",
       "      <td>122904</td>\n",
       "      <td>Deadpool (2016)</td>\n",
       "      <td>Action|Adventure|Comedy|Sci-Fi</td>\n",
       "      <td>54</td>\n",
       "      <td>3.833333</td>\n",
       "    </tr>\n",
       "  </tbody>\n",
       "</table>\n",
       "<p>436 rows × 5 columns</p>\n",
       "</div>"
      ],
      "text/plain": [
       "      movieId                             title  \\\n",
       "0           1                  Toy Story (1995)   \n",
       "1           2                    Jumanji (1995)   \n",
       "2           3           Grumpier Old Men (1995)   \n",
       "5           6                       Heat (1995)   \n",
       "6           7                    Sabrina (1995)   \n",
       "...       ...                               ...   \n",
       "8287   106782   Wolf of Wall Street, The (2013)   \n",
       "8354   109374  Grand Budapest Hotel, The (2014)   \n",
       "8358   109487               Interstellar (2014)   \n",
       "8457   112852    Guardians of the Galaxy (2014)   \n",
       "8673   122904                   Deadpool (2016)   \n",
       "\n",
       "                                           genres  count_ratings  mean_rating  \n",
       "0     Adventure|Animation|Children|Comedy|Fantasy            215     3.920930  \n",
       "1                      Adventure|Children|Fantasy            110     3.431818  \n",
       "2                                  Comedy|Romance             52     3.259615  \n",
       "5                           Action|Crime|Thriller            102     3.946078  \n",
       "6                                  Comedy|Romance             54     3.185185  \n",
       "...                                           ...            ...          ...  \n",
       "8287                           Comedy|Crime|Drama             54     3.916667  \n",
       "8354                                 Comedy|Drama             52     3.778846  \n",
       "8358                                  Sci-Fi|IMAX             73     3.993151  \n",
       "8457                      Action|Adventure|Sci-Fi             59     4.050847  \n",
       "8673               Action|Adventure|Comedy|Sci-Fi             54     3.833333  \n",
       "\n",
       "[436 rows x 5 columns]"
      ]
     },
     "execution_count": 29,
     "metadata": {},
     "output_type": "execute_result"
    }
   ],
   "source": [
    "print(f\"\\nNumber of movies with more than 50 ratings:\", len(filtered_movies))\n",
    "filtered_movies"
   ]
  },
  {
   "cell_type": "code",
   "execution_count": 31,
   "id": "655fcb12-e9a0-4d62-8699-38c00c3e96b3",
   "metadata": {},
   "outputs": [
    {
     "name": "stdout",
     "output_type": "stream",
     "text": [
      "Most Popular Movie Based on Average User Ratings:\n",
      "Title: Shawshank Redemption, The (1994)\n",
      "Average Rating: 4.429022082018927\n",
      "Number of Ratings: 317\n"
     ]
    }
   ],
   "source": [
    "most_popular_movie = filtered_movies.loc[filtered_movies['mean_rating'].idxmax()]\n",
    "\n",
    "most_popular_title = most_popular_movie['title']\n",
    "most_popular_mean_rating = most_popular_movie['mean_rating']\n",
    "most_popular_count_ratings = most_popular_movie['count_ratings']\n",
    "\n",
    "print('Most Popular Movie Based on Average User Ratings:')\n",
    "print('Title:', most_popular_title)\n",
    "print('Average Rating:', most_popular_mean_rating)\n",
    "print('Number of Ratings:', most_popular_count_ratings)"
   ]
  },
  {
   "cell_type": "code",
   "execution_count": 35,
   "id": "c10e5e2e-acc7-44ea-94d8-67768c8288c3",
   "metadata": {},
   "outputs": [
    {
     "name": "stdout",
     "output_type": "stream",
     "text": [
      "Top 5 Popular Movies Based on Number of User Ratings:\n",
      "\n",
      "Forrest Gump (1994)\n",
      "Number of Ratings: 329\n",
      "Average Rating: 4.16\n",
      "Genres: Comedy|Drama|Romance|War\n",
      "\n",
      "Shawshank Redemption, The (1994)\n",
      "Number of Ratings: 317\n",
      "Average Rating: 4.43\n",
      "Genres: Crime|Drama\n",
      "\n",
      "Pulp Fiction (1994)\n",
      "Number of Ratings: 307\n",
      "Average Rating: 4.20\n",
      "Genres: Comedy|Crime|Drama|Thriller\n",
      "\n",
      "Silence of the Lambs, The (1991)\n",
      "Number of Ratings: 279\n",
      "Average Rating: 4.16\n",
      "Genres: Crime|Horror|Thriller\n",
      "\n",
      "Matrix, The (1999)\n",
      "Number of Ratings: 278\n",
      "Average Rating: 4.19\n",
      "Genres: Action|Sci-Fi|Thriller\n"
     ]
    },
    {
     "data": {
      "image/png": "[encoded data removed]",
      "text/plain": [
       "<Figure size 1200x600 with 1 Axes>"
      ]
     },
     "metadata": {},
     "output_type": "display_data"
    }
   ],
   "source": [
    "top_5_popular = filtered_movies.sort_values('count_ratings', ascending=False).head(5)\n",
    "\n",
    "print(\"Top 5 Popular Movies Based on Number of User Ratings:\")\n",
    "for index, movie in top_5_popular.iterrows():\n",
    "    print(f\"\\n{movie['title']}\")\n",
    "    print(f\"Number of Ratings: {movie['count_ratings']}\")\n",
    "    print(f\"Average Rating: {movie['mean_rating']:.2f}\")\n",
    "    print(f\"Genres: {movie['genres']}\")\n",
    "\n",
    "#bar plot of the top 5 movies\n",
    "plt.figure(figsize=(12, 6))\n",
    "plt.bar(top_5_popular['title'], top_5_popular['count_ratings'])\n",
    "plt.title('Top 5 Popular Movies Based on Number of User Ratings')\n",
    "plt.xlabel('Movie Title')\n",
    "plt.ylabel('Number of Ratings')\n",
    "plt.xticks(rotation=45, ha='right')\n",
    "plt.tight_layout()\n",
    "plt.savefig('top_5_popular_movies.png')\n"
   ]
  },
  {
   "cell_type": "code",
   "execution_count": 45,
   "id": "ae88a240-4c70-4c9f-a9ef-e46c1e3c20be",
   "metadata": {},
   "outputs": [],
   "source": [
    "sci_fi_movies = filtered_movies[filtered_movies['genres'].str.contains('Sci-Fi', case=False)]\n",
    "sorted_sci_fi_movies = sci_fi_movies.sort_values('count_ratings', ascending=False)\n",
    "third_most_popular = sorted_sci_fi_movies.iloc[2]"
   ]
  },
  {
   "cell_type": "code",
   "execution_count": 47,
   "id": "4b835a06-5e58-49bb-8865-f0a25197b97c",
   "metadata": {},
   "outputs": [
    {
     "data": {
      "text/plain": [
       "movieId                                       480\n",
       "title                        Jurassic Park (1993)\n",
       "genres           Action|Adventure|Sci-Fi|Thriller\n",
       "count_ratings                                 238\n",
       "mean_rating                                  3.75\n",
       "Name: 418, dtype: object"
      ]
     },
     "execution_count": 47,
     "metadata": {},
     "output_type": "execute_result"
    }
   ],
   "source": [
    "third_most_popular"
   ]
  },
  {
   "cell_type": "code",
   "execution_count": 51,
   "id": "7d940f48-6dc3-4252-a703-010c83040b23",
   "metadata": {},
   "outputs": [
    {
     "data": {
      "text/html": [
       "<div>\n",
       "<style scoped>\n",
       "    .dataframe tbody tr th:only-of-type {\n",
       "        vertical-align: middle;\n",
       "    }\n",
       "\n",
       "    .dataframe tbody tr th {\n",
       "        vertical-align: top;\n",
       "    }\n",
       "\n",
       "    .dataframe thead th {\n",
       "        text-align: right;\n",
       "    }\n",
       "</style>\n",
       "<table border=\"1\" class=\"dataframe\">\n",
       "  <thead>\n",
       "    <tr style=\"text-align: right;\">\n",
       "      <th></th>\n",
       "      <th>movieId</th>\n",
       "      <th>title</th>\n",
       "      <th>genres</th>\n",
       "      <th>count_ratings</th>\n",
       "      <th>mean_rating</th>\n",
       "    </tr>\n",
       "  </thead>\n",
       "  <tbody>\n",
       "    <tr>\n",
       "      <th>1938</th>\n",
       "      <td>2571</td>\n",
       "      <td>Matrix, The (1999)</td>\n",
       "      <td>Action|Sci-Fi|Thriller</td>\n",
       "      <td>278</td>\n",
       "      <td>4.192446</td>\n",
       "    </tr>\n",
       "    <tr>\n",
       "      <th>224</th>\n",
       "      <td>260</td>\n",
       "      <td>Star Wars: Episode IV - A New Hope (1977)</td>\n",
       "      <td>Action|Adventure|Sci-Fi</td>\n",
       "      <td>251</td>\n",
       "      <td>4.231076</td>\n",
       "    </tr>\n",
       "    <tr>\n",
       "      <th>418</th>\n",
       "      <td>480</td>\n",
       "      <td>Jurassic Park (1993)</td>\n",
       "      <td>Action|Adventure|Sci-Fi|Thriller</td>\n",
       "      <td>238</td>\n",
       "      <td>3.750000</td>\n",
       "    </tr>\n",
       "    <tr>\n",
       "      <th>507</th>\n",
       "      <td>589</td>\n",
       "      <td>Terminator 2: Judgment Day (1991)</td>\n",
       "      <td>Action|Sci-Fi</td>\n",
       "      <td>224</td>\n",
       "      <td>3.970982</td>\n",
       "    </tr>\n",
       "    <tr>\n",
       "      <th>897</th>\n",
       "      <td>1196</td>\n",
       "      <td>Star Wars: Episode V - The Empire Strikes Back...</td>\n",
       "      <td>Action|Adventure|Sci-Fi</td>\n",
       "      <td>211</td>\n",
       "      <td>4.215640</td>\n",
       "    </tr>\n",
       "  </tbody>\n",
       "</table>\n",
       "</div>"
      ],
      "text/plain": [
       "      movieId                                              title  \\\n",
       "1938     2571                                 Matrix, The (1999)   \n",
       "224       260          Star Wars: Episode IV - A New Hope (1977)   \n",
       "418       480                               Jurassic Park (1993)   \n",
       "507       589                  Terminator 2: Judgment Day (1991)   \n",
       "897      1196  Star Wars: Episode V - The Empire Strikes Back...   \n",
       "\n",
       "                                genres  count_ratings  mean_rating  \n",
       "1938            Action|Sci-Fi|Thriller            278     4.192446  \n",
       "224            Action|Adventure|Sci-Fi            251     4.231076  \n",
       "418   Action|Adventure|Sci-Fi|Thriller            238     3.750000  \n",
       "507                      Action|Sci-Fi            224     3.970982  \n",
       "897            Action|Adventure|Sci-Fi            211     4.215640  "
      ]
     },
     "execution_count": 51,
     "metadata": {},
     "output_type": "execute_result"
    }
   ],
   "source": [
    "sorted_sci_fi_movies.head()"
   ]
  },
  {
   "cell_type": "code",
   "execution_count": 53,
   "id": "d3c14370-4e1e-4766-b419-34dbf77e49f2",
   "metadata": {},
   "outputs": [
    {
     "name": "stdout",
     "output_type": "stream",
     "text": [
      "Dataset shape: (436, 6)\n",
      "Column names:\n",
      "['movieId', 'title', 'genres', 'rating_count', 'imdbId', 'tmdbId']\n",
      "First few rows:\n",
      "   movieId                    title                                       genres  rating_count  imdbId   tmdbId\n",
      "0        1         Toy Story (1995)  Adventure|Animation|Children|Comedy|Fantasy         215.0  114709    862.0\n",
      "1        2           Jumanji (1995)                   Adventure|Children|Fantasy         110.0  113497   8844.0\n",
      "2        3  Grumpier Old Men (1995)                               Comedy|Romance          52.0  113228  15602.0\n",
      "3        6              Heat (1995)                        Action|Crime|Thriller         102.0  113277    949.0\n",
      "4        7           Sabrina (1995)                               Comedy|Romance          54.0  114319  11860.0\n",
      "Dataset saved to popular_movies_with_links.csv\n",
      "\n",
      "Number of movies per genre:\n",
      "Comedy         176\n",
      "Drama          160\n",
      "Action         157\n",
      "Adventure      126\n",
      "Thriller       117\n",
      "Sci-Fi          88\n",
      "Crime           85\n",
      "Romance         84\n",
      "Fantasy         65\n",
      "Children        47\n",
      "Mystery         37\n",
      "Animation       32\n",
      "IMAX            26\n",
      "Horror          25\n",
      "Musical         21\n",
      "War             17\n",
      "Western         12\n",
      "Film-Noir        4\n",
      "Documentary      1\n"
     ]
    }
   ],
   "source": [
    "movies_df = pd.read_csv('movies.csv')\n",
    "links_df = pd.read_csv('links.csv')\n",
    "ratings_df = pd.read_csv('ratings.csv')\n",
    "\n",
    "ratings_count = ratings_df.groupby('movieId')['rating'].count().reset_index(name='rating_count')\n",
    "movies_with_ratings = pd.merge(movies_df, ratings_count, on='movieId', how='left')\n",
    "popular_movies = movies_with_ratings[movies_with_ratings['rating_count'] > 50]\n",
    "result = pd.merge(popular_movies, links_df, on='movieId', how='inner')\n",
    "\n",
    "output_file = 'popular_movies_with_links.csv'\n",
    "result.to_csv(output_file, index=False)\n",
    "\n",
    "print(f\"Dataset shape: {result.shape}\")\n",
    "print(\"\\\n",
    "Column names:\")\n",
    "print(result.columns.tolist())\n",
    "print(\"\\\n",
    "First few rows:\")\n",
    "print(result.head().to_string())\n",
    "print(f\"\\\n",
    "Dataset saved to {output_file}\")\n",
    "\n",
    "# Count of movies per genre\n",
    "genre_counts = result['genres'].str.get_dummies(sep='|').sum().sort_values(ascending=False)\n",
    "print(\"\\nNumber of movies per genre:\")\n",
    "print(genre_counts.to_string())"
   ]
  },
  {
   "cell_type": "code",
   "execution_count": 66,
   "id": "e1bb70d3-db47-47e6-aab7-b090c143972c",
   "metadata": {},
   "outputs": [
    {
     "data": {
      "text/plain": [
       "(318, 79132)"
      ]
     },
     "execution_count": 66,
     "metadata": {},
     "output_type": "execute_result"
    }
   ],
   "source": [
    "import requests\n",
    "import numpy as np\n",
    "import pandas as pd\n",
    "from bs4 import BeautifulSoup\n",
    "\n",
    "# Load the dataset\n",
    "movies_df = pd.read_csv('popular_movies_with_links.csv')\n",
    "\n",
    "def scrapper(imdbId):\n",
    "    id = str(int(imdbId))\n",
    "    n_zeroes = 7 - len(id)\n",
    "    new_id = \"0\"*n_zeroes + id\n",
    "    URL = f\"https://www.imdb.com/title/tt{new_id}/\"\n",
    "    request_header = {'Content-Type': 'text/html; charset=UTF-8', \n",
    "                      'User-Agent': 'Mozilla/5.0 (Windows NT 10.0; Win64; x64; rv:109.0) Gecko/20100101 Firefox/119.0', \n",
    "                      'Accept-Encoding': 'gzip, deflate, br'}\n",
    "    response = requests.get(URL, headers=request_header)\n",
    "    soup = BeautifulSoup(response.text, 'html.parser')\n",
    "    imdb_rating = soup.find('span', attrs={'class' : 'sc-eb51e184-1 ljxVSS'})\n",
    "    return float(imdb_rating.text) if imdb_rating else np.nan\n",
    "\n",
    "#column for IMDB ratings\n",
    "movies_df['imdb_rating'] = movies_df['imdbId'].apply(scrapper)\n",
    "\n",
    "#movieId with the highest IMDB rating\n",
    "highest_rating_movieId = movies_df.loc[movies_df['imdb_rating'].idxmax(), 'movieId']\n",
    "\n",
    "#movieId of the \"Sci-Fi\" movie with the highest IMDB rating\n",
    "sci_fi_movies = movies_df[movies_df['genres'].str.contains('Sci-Fi', na=False)]\n",
    "highest_rating_sci_fi_movieId = sci_fi_movies.loc[sci_fi_movies['imdb_rating'].idxmax(), 'movieId']\n",
    "\n",
    "highest_rating_movieId, highest_rating_sci_fi_movieId"
   ]
  },
  {
   "cell_type": "code",
   "execution_count": 72,
   "id": "83111f32-b430-4ba9-b418-c92e156f7a60",
   "metadata": {},
   "outputs": [],
   "source": [
    "movies_df.to_csv('popular_movies_with_imdb_ratings.csv', index=False)"
   ]
  }
 ],
 "metadata": {
  "kernelspec": {
   "display_name": "Python 3 (ipykernel)",
   "language": "python",
   "name": "python3"
  },
  "language_info": {
   "codemirror_mode": {
    "name": "ipython",
    "version": 3
   },
   "file_extension": ".py",
   "mimetype": "text/x-python",
   "name": "python",
   "nbconvert_exporter": "python",
   "pygments_lexer": "ipython3",
   "version": "3.9.16"
  }
 },
 "nbformat": 4,
 "nbformat_minor": 5
}
